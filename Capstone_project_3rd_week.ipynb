{
 "cells": [
  {
   "cell_type": "markdown",
   "metadata": {},
   "source": [
    "Import libraries"
   ]
  },
  {
   "cell_type": "code",
   "execution_count": 1,
   "metadata": {},
   "outputs": [],
   "source": [
    "import pandas as pd\n",
    "pd.set_option('display.max_columns', None)\n",
    "pd.set_option('display.max_rows', None)\n",
    "import json\n",
    "import requests\n",
    "from pandas.io.json import json_normalize\n",
    "import numpy as np\n",
    "from urllib.request import urlopen\n",
    "from bs4 import BeautifulSoup\n",
    "import re\n",
    "# used links:\n",
    "#https://medium.com/analytics-vidhya/web-scraping-wiki-tables-using-beautifulsoup-and-python-6b9ea26d8722\n",
    "#https://www.datacamp.com/community/tutorials/web-scraping-using-python"
   ]
  },
  {
   "cell_type": "markdown",
   "metadata": {},
   "source": [
    "Use beautiful soup to request the table from Wikipedia page and create a dataframe"
   ]
  },
  {
   "cell_type": "code",
   "execution_count": 2,
   "metadata": {
    "scrolled": true
   },
   "outputs": [],
   "source": [
    "url = ('https://en.wikipedia.org/wiki/List_of_postal_codes_of_Canada:_M')\n",
    "html = urlopen(url)\n",
    "#print(soup.prettify())\n",
    "soup = BeautifulSoup(html, 'lxml')\n",
    "Wikitable = soup.find('table',{'class':'wikitable sortable'})\n",
    "rows = Wikitable.find_all('tr')\n",
    "list_rows = []\n",
    "for row in rows:\n",
    "    cells = row.find_all('td')\n",
    "    to_clean = str(cells)\n",
    "    what = re.compile('<.*?>')\n",
    "    cleaned = (re.sub(what, '',to_clean))\n",
    "    list_rows.append(cleaned)\n",
    "dataframe = pd.DataFrame(list_rows)"
   ]
  },
  {
   "cell_type": "markdown",
   "metadata": {},
   "source": [
    "Data preparation step"
   ]
  },
  {
   "cell_type": "code",
   "execution_count": 3,
   "metadata": {},
   "outputs": [],
   "source": [
    "table1 = dataframe[0].str.split(',', expand=True)\n",
    "table1[2] = table1[2].str.strip('\\n]')\n",
    "table1[0] = table1[0].str.strip('[')\n",
    "table1 = table1.iloc[1:]\n",
    "table1.columns = ['Postcode','Borough', 'Neighborhood']\n",
    "table1['Postcode'] = table1['Postcode'].str.strip()\n",
    "table1['Borough'] = table1['Borough'].str.strip()\n",
    "table1['Neighborhood'] = table1['Neighborhood'].str.strip()\n",
    "table2 = table1[table1['Borough'] != 'Not assigned']\n",
    "table3 = table2.groupby(['Postcode', 'Borough'], as_index=False).agg(lambda x: ', '.join(x))\n",
    "table3['Neighborhood'] = np.where(table3['Neighborhood'] == 'Not assigned', table3['Borough'], table3['Neighborhood'])"
   ]
  },
  {
   "cell_type": "markdown",
   "metadata": {},
   "source": [
    "Call df shape"
   ]
  },
  {
   "cell_type": "code",
   "execution_count": 4,
   "metadata": {},
   "outputs": [
    {
     "data": {
      "text/plain": [
       "(103, 3)"
      ]
     },
     "execution_count": 4,
     "metadata": {},
     "output_type": "execute_result"
    }
   ],
   "source": [
    "table3.shape "
   ]
  },
  {
   "cell_type": "markdown",
   "metadata": {},
   "source": [
    "Save df as csv"
   ]
  },
  {
   "cell_type": "code",
   "execution_count": 5,
   "metadata": {},
   "outputs": [],
   "source": [
    "table3.to_csv('data.csv', index=False)"
   ]
  }
 ],
 "metadata": {
  "kernelspec": {
   "display_name": "Python 3",
   "language": "python",
   "name": "python3"
  },
  "language_info": {
   "codemirror_mode": {
    "name": "ipython",
    "version": 3
   },
   "file_extension": ".py",
   "mimetype": "text/x-python",
   "name": "python",
   "nbconvert_exporter": "python",
   "pygments_lexer": "ipython3",
   "version": "3.7.1"
  }
 },
 "nbformat": 4,
 "nbformat_minor": 2
}
